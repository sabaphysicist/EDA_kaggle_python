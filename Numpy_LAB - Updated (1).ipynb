{
 "cells": [
  {
   "cell_type": "markdown",
   "metadata": {
    "id": "4SJu6wJWeK_L"
   },
   "source": [
    "# **Introduction to NumPy**"
   ]
  },
  {
   "cell_type": "markdown",
   "metadata": {
    "id": "p0XigReWeb4s"
   },
   "source": [
    "NumPy is the fundamental package for scientific computing in Python. It is a Python library that provides a multidimensional array object and selection of routines for fast operations on arrays, including mathematical, logical, shape manipulation, sorting, basic linear algebra, basic statistical operations, random simulation and much more."
   ]
  },
  {
   "cell_type": "markdown",
   "metadata": {
    "id": "5y4J1q_CfVy_"
   },
   "source": [
    "To use NumPy package in your python application or notebook it must first be imported. You can use an alias to refer to the package throughout your application. It is convention to use \"np\" as a alias to the NumPy package."
   ]
  },
  {
   "cell_type": "code",
   "execution_count": 2,
   "metadata": {
    "executionInfo": {
     "elapsed": 3,
     "status": "ok",
     "timestamp": 1692426756582,
     "user": {
      "displayName": "faizan hakim",
      "userId": "06694804744497959706"
     },
     "user_tz": -300
    },
    "id": "sTsoKnEzNLEX"
   },
   "outputs": [],
   "source": [
    "import numpy as np"
   ]
  },
  {
   "cell_type": "markdown",
   "metadata": {
    "id": "Wvo-Iv69iRJm"
   },
   "source": [
    "At the core of the NumPy package, is the ndarray object. This encapsulates n-dimensional arrays of homogeneous data types, with many operations being performed in compiled code for performance.\n",
    "\n",
    "There are few things to remember when it comes to n-dimensional arrays:\n",
    "\n",
    "\n",
    "1. NumPy arrays have a fixed size at creation.\n",
    "2. The elements in a NumPy array are all required to be of the same data type.\n",
    "3. NumPy arrays facilitate advanced mathematical and other types of operations on large numbers of data.\n",
    "\n"
   ]
  },
  {
   "cell_type": "markdown",
   "metadata": {
    "id": "wCW2NmC7ju0R"
   },
   "source": [
    "## **1. What is an Array?**"
   ]
  },
  {
   "cell_type": "markdown",
   "metadata": {
    "id": "FnPO8gNwl-hC"
   },
   "source": [
    "Arrays are containers which are able to store more than one item at the same time. Specifically, they are an **ordered** collection of elements with every value being of the **same data type**.\n",
    "\n",
    "Arrays are defined by their:\n",
    "\n",
    "* **rank**: number of dimension of the array object.\n",
    "* **shape**: size of each dimension.\n",
    "* **dtype**: data type for all the elements in the array.\n",
    "\n",
    "\n",
    "\n",
    "\n"
   ]
  },
  {
   "cell_type": "markdown",
   "metadata": {
    "id": "BCv0R9xhoEkM"
   },
   "source": [
    "###*Examples*"
   ]
  },
  {
   "cell_type": "code",
   "execution_count": 4,
   "metadata": {
    "colab": {
     "base_uri": "https://localhost:8080/"
    },
    "id": "sH72tvBBofkj",
    "outputId": "b49d8b89-451b-4896-e642-b7f80e113d42"
   },
   "outputs": [
    {
     "name": "stdout",
     "output_type": "stream",
     "text": [
      "[1 2 3 4 5 6]\n",
      "<class 'numpy.ndarray'>\n",
      "(6,)\n",
      "int32\n",
      "1\n"
     ]
    }
   ],
   "source": [
    "#This code creates a 1-Dimensional Array and saves in a variable \"a\"\n",
    "a = np.array([1, 2, 3, 4, 5, 6])\n",
    "print(a)\n",
    "print(type(a))\n",
    "print(a.shape)\n",
    "print(a.dtype)\n",
    "print(a.ndim)"
   ]
  },
  {
   "cell_type": "code",
   "execution_count": 5,
   "metadata": {
    "colab": {
     "base_uri": "https://localhost:8080/"
    },
    "id": "uOSEQldjoz9a",
    "outputId": "e7a3687b-6a98-4ccc-eaa7-da7111283021"
   },
   "outputs": [
    {
     "name": "stdout",
     "output_type": "stream",
     "text": [
      "[[ 1  2  3  4]\n",
      " [ 5  6  7  8]\n",
      " [ 9 10 11 12]]\n",
      "<class 'numpy.ndarray'>\n",
      "(3, 4)\n",
      "int32\n",
      "2\n"
     ]
    }
   ],
   "source": [
    "#This code creates a 2-Dimensional Array and saves in a variable \"b\"\n",
    "b = np.array([[1, 2, 3, 4], \n",
    "              [5, 6, 7, 8], \n",
    "              [9, 10, 11, 12]])\n",
    "print(b)\n",
    "print(type(b))\n",
    "print(b.shape)\n",
    "print(b.dtype)\n",
    "print(b.ndim)"
   ]
  },
  {
   "cell_type": "code",
   "execution_count": 7,
   "metadata": {
    "colab": {
     "base_uri": "https://localhost:8080/"
    },
    "id": "8RoQB59doz0P",
    "outputId": "53413596-5366-4512-ede6-64cd48da00d2"
   },
   "outputs": [
    {
     "name": "stdout",
     "output_type": "stream",
     "text": [
      "[[[ 1  2  3  4]\n",
      "  [ 5  6  7  8]\n",
      "  [ 9 10 11 12]]\n",
      "\n",
      " [[13 14 15 16]\n",
      "  [17 18 19 20]\n",
      "  [21 22 23 24]]]\n",
      "<class 'numpy.ndarray'>\n",
      "(2, 3, 4)\n",
      "int32\n",
      "3\n"
     ]
    }
   ],
   "source": [
    "#This code creates a 3-Dimensional Array and saves in a variable \"c\"\n",
    "c = np.array([\n",
    "              [[1, 2, 3, 4], \n",
    "               [5, 6, 7, 8], \n",
    "               [9, 10, 11, 12]],\n",
    "              \n",
    "              [[13, 14, 15, 16], \n",
    "               [17, 18, 19, 20], \n",
    "               [21, 22, 23, 24]]\n",
    "             ])\n",
    "print(c)\n",
    "print(type(c))\n",
    "print(c.shape)\n",
    "print(c.dtype)\n",
    "print(c.ndim)"
   ]
  },
  {
   "cell_type": "code",
   "execution_count": 11,
   "metadata": {},
   "outputs": [
    {
     "name": "stdout",
     "output_type": "stream",
     "text": [
      "<class 'numpy.ndarray'>\n",
      "()\n",
      "0\n",
      "int32\n"
     ]
    }
   ],
   "source": [
    "d = np.array(1)\n",
    "print(type(d))\n",
    "print(d.shape)\n",
    "print(d.ndim)\n",
    "print(d.dtype)"
   ]
  },
  {
   "cell_type": "markdown",
   "metadata": {
    "id": "pYh0Yq-lqXAr"
   },
   "source": [
    "Array of different dimensions are named differently.\n",
    "\n",
    "*   1-D Arrays are called **Vectors**\n",
    "*   2-D Arrays are called **Metrices**\n",
    "*   Any arrays aboye 2 dimensions are called **Tensors**\n",
    "\n",
    "Dimension of an array is known as the **axis**\n",
    "\n"
   ]
  },
  {
   "cell_type": "markdown",
   "metadata": {
    "id": "G4vlmaKwrg3K"
   },
   "source": [
    "## **2. Creating Arrays**"
   ]
  },
  {
   "cell_type": "markdown",
   "metadata": {
    "id": "9YhhsrnYr-yJ"
   },
   "source": [
    "### 2.1 numpy.array()"
   ]
  },
  {
   "cell_type": "markdown",
   "metadata": {
    "id": "3wohabY5sPtQ"
   },
   "source": [
    "All you need to do to create a simple array is pass a list to it. If you choose to, you can also specify the type of data in your list."
   ]
  },
  {
   "cell_type": "code",
   "execution_count": null,
   "metadata": {
    "colab": {
     "base_uri": "https://localhost:8080/"
    },
    "id": "KFkT7SfDqPN5",
    "outputId": "75b6a936-df52-429a-f0cd-561c84377404"
   },
   "outputs": [
    {
     "name": "stdout",
     "output_type": "stream",
     "text": [
      "[3 4 5]\n"
     ]
    }
   ],
   "source": [
    "#This code creates an 1-D array with the given list of values\n",
    "my_array = np.array([3, 4, 5])\n",
    "print(my_array)"
   ]
  },
  {
   "cell_type": "markdown",
   "metadata": {
    "id": "WvmpU9DKsn7S"
   },
   "source": [
    "### 2.2 numpy.zeros(shape)"
   ]
  },
  {
   "cell_type": "markdown",
   "metadata": {
    "id": "8pbZ6ky6sqls"
   },
   "source": [
    "You can create an array filled with 0's. Pass an integer to this function to specify number of items array will contain. Each element in the array is initialized with a floating value of 0.0"
   ]
  },
  {
   "cell_type": "code",
   "execution_count": null,
   "metadata": {
    "colab": {
     "base_uri": "https://localhost:8080/"
    },
    "id": "wvV9Ae46s4Ds",
    "outputId": "8eba0a21-be8b-4a42-b53f-ce32609b5adb"
   },
   "outputs": [
    {
     "name": "stdout",
     "output_type": "stream",
     "text": [
      "[0. 0. 0. 0. 0. 0.]\n"
     ]
    }
   ],
   "source": [
    "#This code creates a 1-D array of size 6\n",
    "my_array = np.zeros(6)\n",
    "print(my_array)"
   ]
  },
  {
   "cell_type": "markdown",
   "metadata": {
    "id": "TUeBHvPitvnR"
   },
   "source": [
    "### 2.3 numpy.ones(shape)"
   ]
  },
  {
   "cell_type": "markdown",
   "metadata": {
    "id": "QccfjRyjtyh-"
   },
   "source": [
    "You can create an array filled with 1's. Pass an integer to this function to specify number of items array will contain. Each element in the array is initialized with a floating value of 1.0"
   ]
  },
  {
   "cell_type": "code",
   "execution_count": 13,
   "metadata": {
    "colab": {
     "base_uri": "https://localhost:8080/"
    },
    "id": "zPcXBpYmtuLm",
    "outputId": "437eb6e4-0691-4232-ae1f-22197fdee54a"
   },
   "outputs": [
    {
     "name": "stdout",
     "output_type": "stream",
     "text": [
      "[1. 1. 1. 1. 1.]\n"
     ]
    }
   ],
   "source": [
    "#This code creates a 1-D array of size 5\n",
    "my_array = np.ones(5)\n",
    "print(my_array)"
   ]
  },
  {
   "cell_type": "markdown",
   "metadata": {
    "id": "g72F74TWgAOQ"
   },
   "source": [
    "### 2.4 numpy.arange(start, stop, step)"
   ]
  },
  {
   "cell_type": "markdown",
   "metadata": {
    "id": "8P1WiyT2gFwL"
   },
   "source": [
    "You can create an array filled with values within the s:pecified range. Keep a note that the value of the stop parameter is exclusive."
   ]
  },
  {
   "cell_type": "code",
   "execution_count": 3,
   "metadata": {
    "colab": {
     "base_uri": "https://localhost:8080/"
    },
    "executionInfo": {
     "elapsed": 5,
     "status": "ok",
     "timestamp": 1692427257754,
     "user": {
      "displayName": "faizan hakim",
      "userId": "06694804744497959706"
     },
     "user_tz": -300
    },
    "id": "uj_eutGnhC1h",
    "outputId": "cc3baae3-3523-47fa-ea27-81f677c7b307"
   },
   "outputs": [
    {
     "name": "stdout",
     "output_type": "stream",
     "text": [
      "[ 1  2  3  4  5  6  7  8  9 10]\n"
     ]
    }
   ],
   "source": [
    "#create an array having values from 1 to 10\n",
    "my_array = np.arange(1,11,1)\n",
    "print(my_array)"
   ]
  },
  {
   "cell_type": "markdown",
   "metadata": {
    "id": "A7DBLGJmi3Pu"
   },
   "source": [
    "### **Excercise**"
   ]
  },
  {
   "cell_type": "markdown",
   "metadata": {
    "id": "eQq3CU2ZjE4n"
   },
   "source": [
    "Write a function that takes 2 arrays of same length filled with user defined values and check if they are elemet-wise equal. Element-wise equal arrays will have the same value on the same index.\n",
    "\n",
    "For example array([1,2,3,4]) and array([1,2,3,4]) are element-wise equal while array([1,2,3,4]) and array([1,2,3,5]) is not element-wise equal.\n",
    "\n",
    "The funtion should return boolean false if the arrays are element-wise not equal or boolean true if if the arrays are element-wise equal."
   ]
  },
  {
   "cell_type": "code",
   "execution_count": 12,
   "metadata": {
    "executionInfo": {
     "elapsed": 478,
     "status": "ok",
     "timestamp": 1692428650743,
     "user": {
      "displayName": "faizan hakim",
      "userId": "06694804744497959706"
     },
     "user_tz": -300
    },
    "id": "K_cME2qml3tJ"
   },
   "outputs": [],
   "source": [
    "def ElementWiseEqual(arr1, arr2):\n",
    "  # Start your code here\n",
    "\n",
    "\n",
    "\n",
    "  # End you code here"
   ]
  },
  {
   "cell_type": "code",
   "execution_count": null,
   "metadata": {
    "id": "FnN364JxkdKm"
   },
   "outputs": [],
   "source": [
    "arr1 = []\n",
    "arr2 = []\n",
    "\n",
    "array_length = int(input(\"Enter array length: \"))\n",
    "\n",
    "for i in range(array_length):\n",
    "  num1 = int(input(f\"Enter {i+1} number for array 1: \"))\n",
    "  num2 = int(input(f\"Enter {i+1} number for array 2: \"))\n",
    "  arr1.append(num1)\n",
    "  arr2.append(num2)\n",
    "\n",
    "arr1 = np.array(arr1)\n",
    "arr2 = np.array(arr2)\n",
    "\n",
    "print(ElementWiseEqual(arr1, arr2))"
   ]
  },
  {
   "cell_type": "markdown",
   "metadata": {
    "id": "92k3c3yTu-ZL"
   },
   "source": [
    "## **3. Array Indexing and Slicing**"
   ]
  },
  {
   "cell_type": "markdown",
   "metadata": {
    "id": "OHmawost0R7I"
   },
   "source": [
    "Elements in an array are ordered. Therefore you can access them using indexing and slicing methods that were previously used in lists.\n",
    "\n",
    "**Remember index of an array starts from 0**"
   ]
  },
  {
   "cell_type": "code",
   "execution_count": 12,
   "metadata": {
    "colab": {
     "base_uri": "https://localhost:8080/"
    },
    "id": "ScsOdVZLvDGS",
    "outputId": "9216e0b4-5473-4ce9-f871-05c8f87689f4"
   },
   "outputs": [],
   "source": [
    "array = np.array([1,2,3,4,5,6])\n",
    "\n",
    "#print(array[0])\n",
    "# print(array[0:3])\n",
    "# sub_arr = array[0:3]\n",
    "# print(type(sub_arr))\n",
    "# print(array[1:])\n",
    "# print(array[:4])\n",
    "# print(array[:-2])\n",
    "# print(array[:-2])\n"
   ]
  },
  {
   "cell_type": "markdown",
   "metadata": {
    "id": "ak4AIWzJ1xs0"
   },
   "source": [
    "An addition to normal retrival methods, conditions can also be used to extract data from an array."
   ]
  },
  {
   "cell_type": "code",
   "execution_count": 16,
   "metadata": {
    "colab": {
     "base_uri": "https://localhost:8080/"
    },
    "id": "My5l2I-Q18th",
    "outputId": "afcdb30f-973b-4b33-eae4-85821ae57825"
   },
   "outputs": [
    {
     "data": {
      "text/plain": [
       "array([ 3,  6,  9, 12])"
      ]
     },
     "execution_count": 16,
     "metadata": {},
     "output_type": "execute_result"
    }
   ],
   "source": [
    "array = np.array([[1, 2, 3, 4], [5, 6, 7, 8], [9, 10, 11, 12]])\n",
    "array[array % 3 == 0]"
   ]
  },
  {
   "cell_type": "markdown",
   "metadata": {
    "id": "G1dWC-Cv3Mnb"
   },
   "source": [
    "Multiple conditions can be used in conjuction to create a more complex condition"
   ]
  },
  {
   "cell_type": "code",
   "execution_count": 27,
   "metadata": {
    "colab": {
     "base_uri": "https://localhost:8080/"
    },
    "id": "_ZfLP1Ur3Hdv",
    "outputId": "6b14c8f1-5c85-4f28-e688-4f5e0d3b42cc"
   },
   "outputs": [
    {
     "name": "stdout",
     "output_type": "stream",
     "text": [
      "[3 6 9]\n"
     ]
    }
   ],
   "source": [
    "elements = array[(array>2) & (array<11) & (array % 3 == 0)]\n",
    "print(elements)"
   ]
  },
  {
   "cell_type": "markdown",
   "metadata": {
    "id": "ExDrvvPbp_-q"
   },
   "source": [
    "## **4. Array Shape and Size**"
   ]
  },
  {
   "cell_type": "markdown",
   "metadata": {
    "id": "g0oTTNmrqcXp"
   },
   "source": [
    "There are few properties of an array that you can access to get more information about the array's structure. There properties are:\n",
    "\n",
    "1.   **ndarray.ndim**: will tell you the number of axes, or dimensions, of the array.\n",
    "2.   **ndarray.size**: will tell you the total number of elements of the array.\n",
    "3.   **ndarray.shape**: will display a tuple of integers that indicate the number of elements stored along each dimension of the array.\n",
    "\n"
   ]
  },
  {
   "cell_type": "markdown",
   "metadata": {
    "id": "FBjtn2bVsMTW"
   },
   "source": [
    "###*Examples*"
   ]
  },
  {
   "cell_type": "code",
   "execution_count": 2,
   "metadata": {
    "id": "lg8dx-EDqVGy"
   },
   "outputs": [],
   "source": [
    "#Create a Matrix of type integer\n",
    "\n",
    "my_array = np.array([[0, 1, 2, 3],\n",
    "                     [4, 5, 6, 7],\n",
    "                     [0, 1, 2, 3],\n",
    "                     [4, 5, 6, 7]])"
   ]
  },
  {
   "cell_type": "code",
   "execution_count": 3,
   "metadata": {
    "colab": {
     "base_uri": "https://localhost:8080/"
    },
    "id": "vPVxQgFyuZ31",
    "outputId": "1ec91b48-0864-4479-e662-4bf6c49f2b34"
   },
   "outputs": [
    {
     "data": {
      "text/plain": [
       "2"
      ]
     },
     "execution_count": 3,
     "metadata": {},
     "output_type": "execute_result"
    }
   ],
   "source": [
    "my_array.ndim"
   ]
  },
  {
   "cell_type": "code",
   "execution_count": 4,
   "metadata": {
    "colab": {
     "base_uri": "https://localhost:8080/"
    },
    "id": "OIMMD_giuyDU",
    "outputId": "fdb7d4e3-93aa-4d5f-c222-8dc86c876d79"
   },
   "outputs": [
    {
     "data": {
      "text/plain": [
       "16"
      ]
     },
     "execution_count": 4,
     "metadata": {},
     "output_type": "execute_result"
    }
   ],
   "source": [
    "my_array.size"
   ]
  },
  {
   "cell_type": "code",
   "execution_count": 5,
   "metadata": {
    "colab": {
     "base_uri": "https://localhost:8080/"
    },
    "id": "O902IL3mu3s0",
    "outputId": "766bcf06-6096-4af2-87d6-37e4a2d6ade5"
   },
   "outputs": [
    {
     "data": {
      "text/plain": [
       "(4, 4)"
      ]
     },
     "execution_count": 5,
     "metadata": {},
     "output_type": "execute_result"
    }
   ],
   "source": [
    "my_array.shape"
   ]
  },
  {
   "cell_type": "markdown",
   "metadata": {
    "id": "-uvh7utEI4_9"
   },
   "source": [
    "Numpy also allows modification of an array's shape after it has been created. This can be achived by **ndarray.reshape()**"
   ]
  },
  {
   "cell_type": "code",
   "execution_count": 11,
   "metadata": {
    "colab": {
     "base_uri": "https://localhost:8080/"
    },
    "id": "6Rp8MfRoJeSo",
    "outputId": "f6a80083-5aa9-46e4-96a3-e7433e48b7c6"
   },
   "outputs": [
    {
     "name": "stdout",
     "output_type": "stream",
     "text": [
      "(6,)\n",
      "1\n"
     ]
    }
   ],
   "source": [
    "data = np.array([1,2,3,4,5,6])\n",
    "print(data.shape)\n",
    "print(data.ndim)"
   ]
  },
  {
   "cell_type": "code",
   "execution_count": 12,
   "metadata": {
    "colab": {
     "base_uri": "https://localhost:8080/"
    },
    "id": "7q7m6DygJpW7",
    "outputId": "dfd52c33-9de0-42df-a020-d7ebe792351c"
   },
   "outputs": [
    {
     "name": "stdout",
     "output_type": "stream",
     "text": [
      "[[1 2 3]\n",
      " [4 5 6]]\n",
      "2\n",
      "(2, 3)\n"
     ]
    }
   ],
   "source": [
    "reshaped_data = data.reshape(2,3)\n",
    "print(reshaped_data)\n",
    "print(reshaped_data.ndim)\n",
    "print(reshaped_data.shape)"
   ]
  },
  {
   "cell_type": "code",
   "execution_count": 17,
   "metadata": {},
   "outputs": [
    {
     "name": "stdout",
     "output_type": "stream",
     "text": [
      "[[ 2  3  4]\n",
      " [ 5  6  7]\n",
      " [ 8  9 10]]\n",
      "(3, 3)\n"
     ]
    }
   ],
   "source": [
    "my_arr = np.array([[ 2, 3, 4], [ 5, 6, 7], [ 8, 9, 10]])\n",
    "print(my_arr)\n",
    "print(my_arr.shape)"
   ]
  },
  {
   "cell_type": "code",
   "execution_count": 18,
   "metadata": {},
   "outputs": [
    {
     "name": "stdout",
     "output_type": "stream",
     "text": [
      "[ 2  3  4  5  6  7  8  9 10]\n",
      "(9,)\n"
     ]
    }
   ],
   "source": [
    "reshape_arr = my_arr.reshape(1,9)[0]\n",
    "print(reshape_arr)\n",
    "print(reshape_arr.shape)"
   ]
  },
  {
   "cell_type": "code",
   "execution_count": 19,
   "metadata": {},
   "outputs": [
    {
     "name": "stdout",
     "output_type": "stream",
     "text": [
      "[ 2  3  4  5  6  7  8  9 10]\n",
      "(9,)\n"
     ]
    }
   ],
   "source": [
    "reshape_arr = my_arr.reshape(1,9).squeeze()\n",
    "print(reshape_arr)\n",
    "print(reshape_arr.shape)"
   ]
  },
  {
   "cell_type": "code",
   "execution_count": 41,
   "metadata": {},
   "outputs": [
    {
     "name": "stdout",
     "output_type": "stream",
     "text": [
      "[[[1. 1. 1. 1. 1. 1. 1. 1.]\n",
      "  [1. 1. 1. 1. 1. 1. 1. 1.]\n",
      "  [1. 1. 1. 1. 1. 1. 1. 1.]]]\n",
      "(1, 3, 8)\n",
      "\n",
      "[[1. 1. 1. 1. 1. 1. 1. 1.]\n",
      " [1. 1. 1. 1. 1. 1. 1. 1.]\n",
      " [1. 1. 1. 1. 1. 1. 1. 1.]]\n",
      "(3, 8)\n"
     ]
    }
   ],
   "source": [
    "n_arr = np.ones(shape=(1, 3, 8))\n",
    "print(n_arr)\n",
    "print(n_arr.shape)\n",
    "print()\n",
    "sq_arr = n_arr.squeeze()\n",
    "print(sq_arr)\n",
    "print(sq_arr.shape)"
   ]
  },
  {
   "cell_type": "code",
   "execution_count": 47,
   "metadata": {},
   "outputs": [
    {
     "ename": "ValueError",
     "evalue": "cannot reshape array of size 24 into shape (2,5)",
     "output_type": "error",
     "traceback": [
      "\u001b[1;31m---------------------------------------------------------------------------\u001b[0m",
      "\u001b[1;31mValueError\u001b[0m                                Traceback (most recent call last)",
      "Cell \u001b[1;32mIn[47], line 2\u001b[0m\n\u001b[0;32m      1\u001b[0m n_arr \u001b[38;5;241m=\u001b[39m np\u001b[38;5;241m.\u001b[39mones(shape\u001b[38;5;241m=\u001b[39m(\u001b[38;5;241m3\u001b[39m, \u001b[38;5;241m8\u001b[39m))\n\u001b[1;32m----> 2\u001b[0m re_arr \u001b[38;5;241m=\u001b[39m \u001b[43mn_arr\u001b[49m\u001b[38;5;241;43m.\u001b[39;49m\u001b[43mreshape\u001b[49m\u001b[43m(\u001b[49m\u001b[38;5;241;43m2\u001b[39;49m\u001b[43m,\u001b[49m\u001b[38;5;241;43m5\u001b[39;49m\u001b[43m)\u001b[49m \u001b[38;5;66;03m# conflict on number of values\u001b[39;00m\n\u001b[0;32m      3\u001b[0m \u001b[38;5;28mprint\u001b[39m(re_arr)\n",
      "\u001b[1;31mValueError\u001b[0m: cannot reshape array of size 24 into shape (2,5)"
     ]
    }
   ],
   "source": [
    "n_arr = np.ones(shape=(3, 8))\n",
    "re_arr = n_arr.reshape(2,5) # conflict on number of values\n",
    "print(re_arr)"
   ]
  },
  {
   "cell_type": "markdown",
   "metadata": {
    "id": "Q1SHWVS_znC9"
   },
   "source": [
    "### **Excercise**"
   ]
  },
  {
   "cell_type": "markdown",
   "metadata": {
    "id": "MvkbEGJGzXkx"
   },
   "source": [
    "Write a NumPy program to create a 3x3 matrix with values ranging from 2 to 10.\n",
    "Expected Output:\n",
    "[[ 2 3 4]\n",
    "[ 5 6 7]\n",
    "[ 8 9 10]]"
   ]
  },
  {
   "cell_type": "code",
   "execution_count": 25,
   "metadata": {
    "id": "wDbCLAt5zdzZ"
   },
   "outputs": [
    {
     "name": "stdout",
     "output_type": "stream",
     "text": [
      "[ 2  3  4  5  6  7  8  9 10]\n",
      "(9,)\n"
     ]
    }
   ],
   "source": [
    "# start your code here\n",
    "arr = np.arange(2,11,1)\n",
    "print(arr)\n",
    "print(arr.shape)\n",
    "# end your code here"
   ]
  },
  {
   "cell_type": "markdown",
   "metadata": {
    "id": "uwGapWqLvcK_"
   },
   "source": [
    "## **5. Sorting and Concatenating Array Elements**"
   ]
  },
  {
   "cell_type": "markdown",
   "metadata": {
    "id": "Yx8EbjC-wWKd"
   },
   "source": [
    "### 3.1 Sorting elements in Array"
   ]
  },
  {
   "cell_type": "markdown",
   "metadata": {
    "id": "BkyU0XwVwx0q"
   },
   "source": [
    "Sorting elements in assending order is simple with np.sort(). You can specify the axis, kind, and order when you call the function. Note that np.sort() only sorts elements in ascending order."
   ]
  },
  {
   "cell_type": "code",
   "execution_count": 7,
   "metadata": {
    "colab": {
     "base_uri": "https://localhost:8080/"
    },
    "executionInfo": {
     "elapsed": 499,
     "status": "ok",
     "timestamp": 1692428017382,
     "user": {
      "displayName": "faizan hakim",
      "userId": "06694804744497959706"
     },
     "user_tz": -300
    },
    "id": "auw8td5dtmLV",
    "outputId": "f9c96660-04de-4577-fdf0-73d1beb6bdfa"
   },
   "outputs": [
    {
     "name": "stdout",
     "output_type": "stream",
     "text": [
      "[1 2 3 4 5 6 7 8]\n"
     ]
    }
   ],
   "source": [
    "arr = np.array([2, 1, 5, 3, 7, 4, 6, 8])\n",
    "arr2 = np.sort(arr)\n",
    "print(arr2)"
   ]
  },
  {
   "cell_type": "markdown",
   "metadata": {
    "id": "Y-5f7v2MoeTA"
   },
   "source": [
    "### **Excercise**"
   ]
  },
  {
   "cell_type": "markdown",
   "metadata": {
    "id": "HMw1AYn0xiyi"
   },
   "source": [
    "Create a function that takes an array as a parameter and returns the sorted array in decending order.\n",
    "\n",
    "Hint: **numpy.flip(array_object)** can be used to reverse an array."
   ]
  },
  {
   "cell_type": "code",
   "execution_count": null,
   "metadata": {
    "colab": {
     "base_uri": "https://localhost:8080/"
    },
    "id": "uiX2bc2VxhtL",
    "outputId": "4feb4518-af3c-4b92-9695-d624dc136f47"
   },
   "outputs": [
    {
     "name": "stdout",
     "output_type": "stream",
     "text": [
      "[8 7 6 5 4 3 2 1]\n"
     ]
    }
   ],
   "source": [
    "#can be given as a task\n",
    "arr3 = np.flip(arr2)\n",
    "print(arr3)"
   ]
  },
  {
   "cell_type": "code",
   "execution_count": 48,
   "metadata": {
    "executionInfo": {
     "elapsed": 725,
     "status": "ok",
     "timestamp": 1692430469229,
     "user": {
      "displayName": "faizan hakim",
      "userId": "06694804744497959706"
     },
     "user_tz": -300
    },
    "id": "DerkEQVOtn1e"
   },
   "outputs": [],
   "source": [
    "def SortArrayDecending(arr):\n",
    "  # start your code here\n",
    "    pass\n",
    "  # end your code here"
   ]
  },
  {
   "cell_type": "code",
   "execution_count": null,
   "metadata": {
    "id": "ky2LBXJTpTCE"
   },
   "outputs": [],
   "source": [
    "arr1 = []\n",
    "\n",
    "array_length = int(input(\"Enter array length: \"))\n",
    "\n",
    "for i in range(array_length):\n",
    "  num1 = int(input(f\"Enter {i+1} number for array 1: \"))\n",
    "  arr1.append(num1)\n",
    "\n",
    "arr1 = np.array(arr1)\n",
    "\n",
    "print(SortArrayDecending(arr1))"
   ]
  },
  {
   "cell_type": "markdown",
   "metadata": {
    "id": "xMmF1CROAo3H"
   },
   "source": [
    "### 3.2 Concatenating Arrays"
   ]
  },
  {
   "cell_type": "markdown",
   "metadata": {
    "id": "wvjTwlWpAy_9"
   },
   "source": [
    "You can join elements to 2 or more arrays using numpy.concatenate()"
   ]
  },
  {
   "cell_type": "code",
   "execution_count": null,
   "metadata": {
    "colab": {
     "base_uri": "https://localhost:8080/"
    },
    "id": "bznRY37Wyc6p",
    "outputId": "e63d5e5d-01d2-4578-ea14-d4baee29d328"
   },
   "outputs": [
    {
     "name": "stdout",
     "output_type": "stream",
     "text": [
      "[ 1  2  3  4  5  6  7  8  9 10]\n"
     ]
    }
   ],
   "source": [
    "a = np.array([1,2,3,4,5])\n",
    "b = np.array([6,7,8,9,10])\n",
    "c = np.concatenate((a,b))\n",
    "print(c)"
   ]
  },
  {
   "cell_type": "markdown",
   "metadata": {
    "id": "HZ9nex6lBXTg"
   },
   "source": [
    "It is important to remember that the arrays that are to be concatenated must be passed in as a tuple like (array1, array2)."
   ]
  },
  {
   "cell_type": "markdown",
   "metadata": {
    "id": "5bpIWiHNBz_Y"
   },
   "source": [
    "Higher dimensional arrays can also be concatenated by specifying the axis property of np.concatenate(). Doing this specifies which dimensions of the arrays are to be concatenated."
   ]
  },
  {
   "cell_type": "code",
   "execution_count": 53,
   "metadata": {
    "colab": {
     "base_uri": "https://localhost:8080/"
    },
    "id": "zni_IjMkBvqK",
    "outputId": "e89db6ab-93b4-4a8e-91c0-4b5eeda13cdd"
   },
   "outputs": [
    {
     "name": "stdout",
     "output_type": "stream",
     "text": [
      "[[1 2 3]\n",
      " [4 5 6]]\n",
      "[[ 7  8  9]\n",
      " [10 11 12]]\n",
      "[[ 1  2  3  7  8  9]\n",
      " [ 4  5  6 10 11 12]]\n"
     ]
    }
   ],
   "source": [
    "a = np.array([[1,2,3],[4,5,6]])\n",
    "b = np.array([[7,8,9],[10,11,12]])\n",
    "print(a)\n",
    "print(b)\n",
    "c = np.concatenate((a,b), axis = 1)\n",
    "print(c)"
   ]
  },
  {
   "cell_type": "code",
   "execution_count": 59,
   "metadata": {},
   "outputs": [
    {
     "name": "stdout",
     "output_type": "stream",
     "text": [
      "[[1. 1. 1.]\n",
      " [1. 1. 1.]]\n",
      "\n",
      "[[1. 1. 1. 1.]\n",
      " [1. 1. 1. 1.]\n",
      " [1. 1. 1. 1.]]\n"
     ]
    },
    {
     "ename": "ValueError",
     "evalue": "all the input array dimensions except for the concatenation axis must match exactly, but along dimension 1, the array at index 0 has size 3 and the array at index 1 has size 4",
     "output_type": "error",
     "traceback": [
      "\u001b[1;31m---------------------------------------------------------------------------\u001b[0m",
      "\u001b[1;31mValueError\u001b[0m                                Traceback (most recent call last)",
      "Cell \u001b[1;32mIn[59], line 9\u001b[0m\n\u001b[0;32m      5\u001b[0m \u001b[38;5;28mprint\u001b[39m()\n\u001b[0;32m      6\u001b[0m \u001b[38;5;28mprint\u001b[39m(arr2)\n\u001b[1;32m----> 9\u001b[0m c \u001b[38;5;241m=\u001b[39m \u001b[43mnp\u001b[49m\u001b[38;5;241;43m.\u001b[39;49m\u001b[43mconcatenate\u001b[49m\u001b[43m(\u001b[49m\u001b[43m(\u001b[49m\u001b[43marr1\u001b[49m\u001b[43m,\u001b[49m\u001b[43marr2\u001b[49m\u001b[43m)\u001b[49m\u001b[43m,\u001b[49m\u001b[43m \u001b[49m\u001b[43maxis\u001b[49m\u001b[43m \u001b[49m\u001b[38;5;241;43m=\u001b[39;49m\u001b[43m \u001b[49m\u001b[38;5;241;43m0\u001b[39;49m\u001b[43m)\u001b[49m\n",
      "File \u001b[1;32m<__array_function__ internals>:200\u001b[0m, in \u001b[0;36mconcatenate\u001b[1;34m(*args, **kwargs)\u001b[0m\n",
      "\u001b[1;31mValueError\u001b[0m: all the input array dimensions except for the concatenation axis must match exactly, but along dimension 1, the array at index 0 has size 3 and the array at index 1 has size 4"
     ]
    }
   ],
   "source": [
    "arr1 = np.ones(shape=(2,3))\n",
    "arr2 = np.ones(shape=(3,4))\n",
    "\n",
    "print(arr1)\n",
    "print()\n",
    "print(arr2)\n",
    "\n",
    "\n",
    "c = np.concatenate((arr1,arr2), axis = 0)"
   ]
  },
  {
   "cell_type": "markdown",
   "metadata": {
    "id": "53gCdJ-h35wS"
   },
   "source": [
    "## **6. Array Operations**"
   ]
  },
  {
   "cell_type": "markdown",
   "metadata": {
    "id": "ZVMQzCCAKAK9"
   },
   "source": [
    "### 6.1 Mathmatical Operations"
   ]
  },
  {
   "cell_type": "code",
   "execution_count": 73,
   "metadata": {
    "id": "9g1wwq6UKnO9"
   },
   "outputs": [],
   "source": [
    "#This creates 2 arrays\n",
    "data = np.array([1, 2])\n",
    "data2 = np.array([3, 4])\n",
    "ones = np.ones(2, dtype=int)"
   ]
  },
  {
   "cell_type": "code",
   "execution_count": 67,
   "metadata": {},
   "outputs": [
    {
     "name": "stdout",
     "output_type": "stream",
     "text": [
      "[1 2]\n",
      "[2 4]\n"
     ]
    }
   ],
   "source": [
    "print(data)\n",
    "print(data * 2)"
   ]
  },
  {
   "cell_type": "code",
   "execution_count": 74,
   "metadata": {},
   "outputs": [
    {
     "name": "stdout",
     "output_type": "stream",
     "text": [
      "[1 2]\n",
      "[1 1]\n",
      "[3 4]\n"
     ]
    }
   ],
   "source": [
    "print(data)\n",
    "print(ones)\n",
    "print(data2)"
   ]
  },
  {
   "cell_type": "code",
   "execution_count": 77,
   "metadata": {
    "id": "fpiYINhRLAra"
   },
   "outputs": [],
   "source": [
    "#array addition\n",
    "sum_array = data + data2 + ones\n",
    "\n",
    "#array subtraction\n",
    "sub_array = data - ones\n",
    "\n",
    "#array multiplication\n",
    "mul_array = data * ones\n",
    "\n",
    "#array division\n",
    "div_array = data / ones"
   ]
  },
  {
   "cell_type": "code",
   "execution_count": 78,
   "metadata": {
    "id": "cC4lGf0QLW8I"
   },
   "outputs": [
    {
     "name": "stdout",
     "output_type": "stream",
     "text": [
      "[5 7]\n",
      "[0 1]\n",
      "[1 2]\n",
      "[1. 2.]\n"
     ]
    }
   ],
   "source": [
    "print(sum_array)\n",
    "print(sub_array)\n",
    "print(mul_array)\n",
    "print(div_array)"
   ]
  },
  {
   "cell_type": "code",
   "execution_count": null,
   "metadata": {
    "colab": {
     "base_uri": "https://localhost:8080/"
    },
    "id": "esM_bP5WMROv",
    "outputId": "d94b1356-bc79-4ac6-c5cd-e8bd0d703753"
   },
   "outputs": [
    {
     "name": "stdout",
     "output_type": "stream",
     "text": [
      "[2 4]\n"
     ]
    }
   ],
   "source": [
    "#Code shows opertion of broadcast between vector (array) and scaler value\n",
    "new_data = data * 2\n",
    "print(new_data)"
   ]
  },
  {
   "cell_type": "code",
   "execution_count": 64,
   "metadata": {},
   "outputs": [
    {
     "name": "stdout",
     "output_type": "stream",
     "text": [
      "[2, 4, 6, 8]\n"
     ]
    }
   ],
   "source": [
    "my_l = [1, 2, 3, 4]\n",
    "for i in range(0, len(my_l)):\n",
    "    my_l[i] = my_l[i] * 2\n",
    "print(my_l)"
   ]
  },
  {
   "cell_type": "markdown",
   "metadata": {
    "id": "dPwLqo1rKElp"
   },
   "source": [
    "### 6.2 Statistical Operations"
   ]
  },
  {
   "cell_type": "code",
   "execution_count": null,
   "metadata": {
    "id": "7Kb2zIYd4EQR"
   },
   "outputs": [],
   "source": [
    "#Declare and Initialize data\n",
    "vector = np.array([1,2,3,4,5])\n",
    "matrix = np.array([[1,2,3], [4,5,6], [7,8,9]])"
   ]
  },
  {
   "cell_type": "code",
   "execution_count": null,
   "metadata": {
    "colab": {
     "base_uri": "https://localhost:8080/"
    },
    "id": "3f7Z28NaM0x8",
    "outputId": "8a8b7468-8ebf-49b8-b290-20c502f7c351"
   },
   "outputs": [
    {
     "name": "stdout",
     "output_type": "stream",
     "text": [
      "15\n",
      "[12 15 18]\n"
     ]
    }
   ],
   "source": [
    "print(vector.sum())\n",
    "print(matrix.sum(axis=0))"
   ]
  },
  {
   "cell_type": "code",
   "execution_count": null,
   "metadata": {
    "colab": {
     "base_uri": "https://localhost:8080/"
    },
    "id": "7GlsJHXjXy3M",
    "outputId": "512dee6d-f5be-4bb9-8ff0-c4e849588a14"
   },
   "outputs": [
    {
     "name": "stdout",
     "output_type": "stream",
     "text": [
      "1\n",
      "[1 2 3]\n"
     ]
    }
   ],
   "source": [
    "print(vector.min())\n",
    "print(matrix.min(axis=0))"
   ]
  },
  {
   "cell_type": "code",
   "execution_count": null,
   "metadata": {
    "colab": {
     "base_uri": "https://localhost:8080/"
    },
    "id": "uOS6tBWPYOLC",
    "outputId": "e92a02aa-9215-4137-81b6-46f1890394c6"
   },
   "outputs": [
    {
     "name": "stdout",
     "output_type": "stream",
     "text": [
      "120\n",
      "[ 28  80 162]\n"
     ]
    }
   ],
   "source": [
    "print(vector.prod())\n",
    "print(matrix.prod(axis=0))"
   ]
  },
  {
   "cell_type": "code",
   "execution_count": null,
   "metadata": {
    "colab": {
     "base_uri": "https://localhost:8080/"
    },
    "id": "jvXqNQoYX5te",
    "outputId": "38e6e058-123e-4dd1-9f7b-facf7b913d57"
   },
   "outputs": [
    {
     "name": "stdout",
     "output_type": "stream",
     "text": [
      "5\n",
      "[7 8 9]\n"
     ]
    }
   ],
   "source": [
    "print(vector.max())\n",
    "print(matrix.max(axis=0))"
   ]
  },
  {
   "cell_type": "code",
   "execution_count": null,
   "metadata": {
    "colab": {
     "base_uri": "https://localhost:8080/"
    },
    "id": "r7PGHi0sYSBi",
    "outputId": "61c8bfb9-de9e-42c1-ea4a-18f01b3218c8"
   },
   "outputs": [
    {
     "name": "stdout",
     "output_type": "stream",
     "text": [
      "3.0\n",
      "[4. 5. 6.]\n"
     ]
    }
   ],
   "source": [
    "print(vector.mean())\n",
    "print(matrix.mean(axis=0))"
   ]
  },
  {
   "cell_type": "code",
   "execution_count": null,
   "metadata": {
    "colab": {
     "base_uri": "https://localhost:8080/"
    },
    "id": "nXn3pp8BX70h",
    "outputId": "184115c3-3a5c-4f00-ffc8-7067180caf5d"
   },
   "outputs": [
    {
     "name": "stdout",
     "output_type": "stream",
     "text": [
      "1.4142135623730951\n",
      "[2.44948974 2.44948974 2.44948974]\n"
     ]
    }
   ],
   "source": [
    "print(vector.std())\n",
    "print(matrix.std(axis=0))"
   ]
  },
  {
   "cell_type": "markdown",
   "metadata": {
    "id": "nGS0OFeYyI5m"
   },
   "source": [
    "### **Excercise**"
   ]
  },
  {
   "cell_type": "markdown",
   "metadata": {
    "id": "kHWJ1fF6yQS5"
   },
   "source": [
    "Write a NumPy program to create an array of 10 zeros, 10 ones, and 10 fives."
   ]
  },
  {
   "cell_type": "code",
   "execution_count": null,
   "metadata": {
    "id": "HPWRF3K8ydQT"
   },
   "outputs": [],
   "source": [
    "# start your code here\n",
    "\n",
    "# end your code here"
   ]
  },
  {
   "cell_type": "markdown",
   "metadata": {
    "id": "YxQuXRc3ylrk"
   },
   "source": []
  }
 ],
 "metadata": {
  "colab": {
   "collapsed_sections": [
    "wCW2NmC7ju0R",
    "G4vlmaKwrg3K",
    "A7DBLGJmi3Pu",
    "92k3c3yTu-ZL",
    "ExDrvvPbp_-q",
    "uwGapWqLvcK_",
    "Yx8EbjC-wWKd",
    "Y-5f7v2MoeTA",
    "xMmF1CROAo3H",
    "53gCdJ-h35wS"
   ],
   "provenance": []
  },
  "kernelspec": {
   "display_name": "Python 3 (ipykernel)",
   "language": "python",
   "name": "python3"
  },
  "language_info": {
   "codemirror_mode": {
    "name": "ipython",
    "version": 3
   },
   "file_extension": ".py",
   "mimetype": "text/x-python",
   "name": "python",
   "nbconvert_exporter": "python",
   "pygments_lexer": "ipython3",
   "version": "3.11.7"
  }
 },
 "nbformat": 4,
 "nbformat_minor": 4
}
